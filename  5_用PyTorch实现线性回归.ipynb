{
 "cells": [
  {
   "cell_type": "markdown",
   "id": "578eef2f",
   "metadata": {},
   "source": [
    "PyTorch Fashion(风格)\n",
    "\n",
    "1、prepare dataset\n",
    "\n",
    "2、design model using Class  # 目的是为了前向传播forward，即计算y hat(预测值)\n",
    "\n",
    "3、Construct loss and optimizer (using PyTorch API) 其中，计算loss是为了进行反向传播，optimizer是为了更新梯度。\n",
    "\n",
    "4、Training cycle (forward,backward,update)"
   ]
  },
  {
   "cell_type": "markdown",
   "id": "3426e0b1",
   "metadata": {},
   "source": [
    "代码说明：\n",
    "\n",
    "1、Module实现了魔法函数__call__()，call()里面有一条语句是要调用forward()。因此新写的类中需要重写forward()覆盖掉父类中的forward()\n",
    "\n",
    "2、call函数的另一个作用是可以直接在对象后面加()，例如实例化的model对象，和实例化的linear对象\n",
    "\n",
    "3、本算法的forward体现是通过以下语句实现的："
   ]
  },
  {
   "cell_type": "markdown",
   "id": "51264c07",
   "metadata": {},
   "source": [
    "    y_pred = model(x_data)"
   ]
  },
  {
   "cell_type": "markdown",
   "id": "72e520d0",
   "metadata": {},
   "source": [
    "由于魔法函数call的实现,model(x_data)将会调用model.forward(x_data)函数，model.forward(x_data)函数中的"
   ]
  },
  {
   "cell_type": "markdown",
   "id": "48995c43",
   "metadata": {},
   "source": [
    "    y_pred = self.linear(x)"
   ]
  },
  {
   "cell_type": "markdown",
   "id": "5d3ca132",
   "metadata": {},
   "source": [
    "self.linear(x)也由于魔法函数call的实现将会调用torch.nn.Linear类中的forward，至此完成封装，也就是说forward最终是在torch.nn.Linear类中实现的，具体怎么实现，可以不用关心，大概就是y= wx + b。"
   ]
  },
  {
   "cell_type": "markdown",
   "id": "25d8e447",
   "metadata": {},
   "source": [
    "关于魔法函数call在PyTorch中的应用的进一步解释：  \n",
    "    pytorch 之 __call__, __init__,forward:   https://blog.csdn.net/xxboy61/article/details/88101192\n",
    "    pytorch系列nn.Modlue中call的进一步解释:  https://blog.csdn.net/dss_dssssd/article/details/82977170"
   ]
  },
  {
   "cell_type": "markdown",
   "id": "43281ed6",
   "metadata": {},
   "source": [
    "4、本算法的反向传播，计算梯度是通过以下语句实现的："
   ]
  },
  {
   "cell_type": "markdown",
   "id": "53585ecc",
   "metadata": {},
   "source": [
    "    loss.backward() # 反向传播，计算梯度"
   ]
  },
  {
   "cell_type": "markdown",
   "id": "1e73d2da",
   "metadata": {},
   "source": [
    "5、本算法的参数(w,b)更新，是通过以下语句实现的："
   ]
  },
  {
   "cell_type": "markdown",
   "id": "622a03b8",
   "metadata": {},
   "source": [
    "    optimizer.step() # update 参数，即更新w和b的值"
   ]
  },
  {
   "cell_type": "markdown",
   "id": "a76493bc",
   "metadata": {},
   "source": [
    "6、 每一次epoch的训练过程，总结就是\n",
    "\n",
    "    ①前向传播，求y hat （输入的预测值）\n",
    "\n",
    "    ②根据y_hat和y_label(y_data)计算loss\n",
    "\n",
    "    ③反向传播 backward (计算梯度)\n",
    "\n",
    "    ④根据梯度，更新参数"
   ]
  },
  {
   "cell_type": "markdown",
   "id": "621d2001",
   "metadata": {},
   "source": [
    "7、本实例是批量数据处理，不要被optimizer = torch.optim.SGD(model.parameters(), lr = 0.01)误导了，以为见了SGD就是随机梯度下降。要看传进来的数据是单个的还是批量的。这里的x_data是3个数据，是一个batch，调用的PyTorch API是 torch.optim.SGD，但这里的SGD不是随机梯度下降，而是批量梯度下降。也就是说，梯度下降算法使用的是随机梯度下降，还是批量梯度下降，还是mini-batch梯度下降，用的API都是 torch.optim.SGD。"
   ]
  },
  {
   "cell_type": "markdown",
   "id": "a48a567a",
   "metadata": {},
   "source": [
    "8、torch.nn.MSELoss也跟torch.nn.Module有关，参与计算图的构建，torch.optim.SGD与torch.nn.Module无关，不参与构建计算图"
   ]
  },
  {
   "cell_type": "markdown",
   "id": "2d0bee44",
   "metadata": {},
   "source": [
    "9、torch.nn.Linear的pytorch文档：  https://pytorch.org/docs/1.7.0/generated/torch.nn.Linear.html#torch.nn.Linear"
   ]
  },
  {
   "cell_type": "code",
   "execution_count": 9,
   "id": "39481a05",
   "metadata": {
    "scrolled": true
   },
   "outputs": [
    {
     "name": "stdout",
     "output_type": "stream",
     "text": [
      "0 119.46044158935547\n",
      "1 53.34696960449219\n",
      "2 23.912738800048828\n",
      "3 10.807097434997559\n",
      "4 4.970510005950928\n",
      "5 2.369936227798462\n",
      "6 1.209975242614746\n",
      "7 0.6913661956787109\n",
      "8 0.4583015739917755\n",
      "9 0.3523845672607422\n",
      "10 0.3031010031700134\n",
      "11 0.2790601849555969\n",
      "12 0.2662862241268158\n",
      "13 0.25855809450149536\n",
      "14 0.2531054615974426\n",
      "15 0.24869489669799805\n",
      "16 0.24477636814117432\n",
      "17 0.24110554158687592\n",
      "18 0.23757228255271912\n",
      "19 0.23412762582302094\n",
      "20 0.23074935376644135\n",
      "21 0.22742699086666107\n",
      "22 0.22415605187416077\n",
      "23 0.22093339264392853\n",
      "24 0.21775750815868378\n",
      "25 0.21462774276733398\n",
      "26 0.21154338121414185\n",
      "27 0.20850269496440887\n",
      "28 0.20550644397735596\n",
      "29 0.20255301892757416\n",
      "30 0.19964176416397095\n",
      "31 0.19677287340164185\n",
      "32 0.19394470751285553\n",
      "33 0.19115769863128662\n",
      "34 0.1884101927280426\n",
      "35 0.18570244312286377\n",
      "36 0.1830337941646576\n",
      "37 0.18040335178375244\n",
      "38 0.17781034111976624\n",
      "39 0.1752549409866333\n",
      "40 0.17273622751235962\n",
      "41 0.17025409638881683\n",
      "42 0.1678069829940796\n",
      "43 0.16539543867111206\n",
      "44 0.16301831603050232\n",
      "45 0.1606755554676056\n",
      "46 0.15836645662784576\n",
      "47 0.15609034895896912\n",
      "48 0.15384729206562042\n",
      "49 0.1516362428665161\n",
      "50 0.1494569331407547\n",
      "51 0.14730903506278992\n",
      "52 0.14519181847572327\n",
      "53 0.1431053727865219\n",
      "54 0.14104869961738586\n",
      "55 0.1390216201543808\n",
      "56 0.13702350854873657\n",
      "57 0.1350543200969696\n",
      "58 0.13311339914798737\n",
      "59 0.13120049238204956\n",
      "60 0.12931492924690247\n",
      "61 0.12745624780654907\n",
      "62 0.12562468647956848\n",
      "63 0.12381923198699951\n",
      "64 0.12203975021839142\n",
      "65 0.12028580904006958\n",
      "66 0.11855713278055191\n",
      "67 0.11685316264629364\n",
      "68 0.11517385393381119\n",
      "69 0.11351875960826874\n",
      "70 0.11188725382089615\n",
      "71 0.1102791279554367\n",
      "72 0.10869432240724564\n",
      "73 0.10713223367929459\n",
      "74 0.10559263825416565\n",
      "75 0.10407513380050659\n",
      "76 0.10257931798696518\n",
      "77 0.10110505670309067\n",
      "78 0.09965193271636963\n",
      "79 0.09821998327970505\n",
      "80 0.09680818766355515\n",
      "81 0.09541699290275574\n",
      "82 0.0940457135438919\n",
      "83 0.09269413352012634\n",
      "84 0.09136198461055756\n",
      "85 0.09004893153905869\n",
      "86 0.08875474333763123\n",
      "87 0.08747927844524384\n",
      "88 0.0862220823764801\n",
      "89 0.0849829912185669\n",
      "90 0.08376158773899078\n",
      "91 0.08255785703659058\n",
      "92 0.08137128502130508\n",
      "93 0.08020186424255371\n",
      "94 0.07904922962188721\n",
      "95 0.07791321724653244\n",
      "96 0.07679350674152374\n",
      "97 0.07568974047899246\n",
      "98 0.0746019184589386\n",
      "99 0.073529914021492\n",
      "w =  1.819480538368225\n",
      "b =  0.41036298871040344\n",
      "y_pred =  tensor([[7.6883]])\n"
     ]
    }
   ],
   "source": [
    "import torch\n",
    "# prepare dataset\n",
    "# x,y是矩阵，3行1列 也就是说总共有3个 数据 ，每个数据只有1个 特征 \n",
    "x_data = torch.tensor([[1.0], [2.0], [3.0]])\n",
    "y_data = torch.tensor([[2.0], [4.0], [6.0]])\n",
    " \n",
    "#design model using class\n",
    "\"\"\"\n",
    "our model class should be inherit from nn.Module, which is base class for all neural network modules.\n",
    "member methods __init__() and forward() have to be implemented\n",
    "class nn.linear contain two member Tensors: weight and bias\n",
    "class nn.Linear has implemented the magic method __call__(),which enable the instance of the class can\n",
    "be called just like a function.Normally the forward() will be called \n",
    "\"\"\"\n",
    "class LinearModel(torch.nn.Module):\n",
    "    def __init__(self):\n",
    "        super(LinearModel, self).__init__()\n",
    "        # (1,1)是指输入x和输出y的特征维度，这里数据集中的x和y的特征都是1维的\n",
    "        # 该线性层需要学习的参数是w和b  获取w/b的方式分别是~linear.weight/linear.bias\n",
    "        self.linear = torch.nn.Linear(1, 1)\n",
    " \n",
    "    def forward(self, x):\n",
    "        y_pred = self.linear(x)\n",
    "        return y_pred\n",
    " \n",
    "model = LinearModel()\n",
    " \n",
    "# construct loss and optimizer\n",
    "# criterion = torch.nn.MSELoss(size_average = False)\n",
    "criterion = torch.nn.MSELoss(reduction = 'sum')\n",
    "optimizer = torch.optim.SGD(model.parameters(), lr = 0.01) # model.parameters()自动完成参数的初始化操作\n",
    " \n",
    "# training cycle forward, backward, update\n",
    "loss_list,epochs = [],[]\n",
    "for epoch in range(100):\n",
    "    y_pred = model(x_data) # forward:predict\n",
    "    loss = criterion(y_pred, y_data) # forward: loss\n",
    "    print(epoch, loss.item())#loss 是图，取标量值需要调用 '.item()'这个函数 \n",
    "    loss_list.append(loss.item())\n",
    "    epochs.append(epoch)\n",
    " \n",
    "    optimizer.zero_grad() # the grad computer by .backward() will be accumulated. so before backward, remember set the grad to zero\n",
    "    loss.backward() # backward: autograd，自动计算梯度\n",
    "    optimizer.step() # update 参数，即更新w和b的值\n",
    " \n",
    "print('w = ', model.linear.weight.item())\n",
    "print('b = ', model.linear.bias.item())\n",
    " \n",
    "x_test = torch.tensor([[4.0]])\n",
    "y_test = model(x_test)\n",
    "print('y_pred = ', y_test.data)"
   ]
  },
  {
   "cell_type": "code",
   "execution_count": 10,
   "id": "e2ca508e",
   "metadata": {},
   "outputs": [
    {
     "data": {
      "image/png": "[encoded data removed]",
      "text/plain": [
       "<Figure size 432x288 with 1 Axes>"
      ]
     },
     "metadata": {
      "needs_background": "light"
     },
     "output_type": "display_data"
    }
   ],
   "source": [
    "import matplotlib.pyplot as plt\n",
    "plt.plot(epochs,loss_list)\n",
    "plt.ylabel('Loss')\n",
    "plt.xlabel('epoch')\n",
    "plt.show() "
   ]
  },
  {
   "cell_type": "markdown",
   "id": "18a48276",
   "metadata": {},
   "source": [
    "### 课后作业，换优化器看loss图变化，可选优化器：Adagrad，Adam， Adamax， ASGD， RMSprop， Rprop， SGD"
   ]
  },
  {
   "cell_type": "code",
   "execution_count": 34,
   "id": "f9b59700",
   "metadata": {},
   "outputs": [
    {
     "data": {
      "text/plain": [
       "['ASGD',\n",
       " 'Adadelta',\n",
       " 'Adagrad',\n",
       " 'Adam',\n",
       " 'AdamW',\n",
       " 'Adamax',\n",
       " 'LBFGS',\n",
       " 'Optimizer',\n",
       " 'RMSprop',\n",
       " 'Rprop',\n",
       " 'SGD',\n",
       " 'SparseAdam',\n",
       " '__builtins__',\n",
       " '__cached__',\n",
       " '__doc__',\n",
       " '__file__',\n",
       " '__loader__',\n",
       " '__name__',\n",
       " '__package__',\n",
       " '__path__',\n",
       " '__spec__',\n",
       " '_functional',\n",
       " '_multi_tensor',\n",
       " 'lr_scheduler',\n",
       " 'swa_utils']"
      ]
     },
     "execution_count": 34,
     "metadata": {},
     "output_type": "execute_result"
    }
   ],
   "source": [
    "dir(torch.optim)"
   ]
  },
  {
   "cell_type": "markdown",
   "id": "cde6241e",
   "metadata": {},
   "source": [
    "## Adagrad    lr = 0.02   epochs=10000"
   ]
  },
  {
   "cell_type": "code",
   "execution_count": 30,
   "id": "900c7e8b",
   "metadata": {},
   "outputs": [
    {
     "data": {
      "image/png": "[encoded data removed]",
      "text/plain": [
       "<Figure size 432x288 with 1 Axes>"
      ]
     },
     "metadata": {
      "needs_background": "light"
     },
     "output_type": "display_data"
    }
   ],
   "source": [
    "import torch\n",
    "# prepare dataset\n",
    "# x,y是矩阵，3行1列 也就是说总共有3个 数据 ，每个数据只有1个 特征 \n",
    "x_data = torch.tensor([[1.0], [2.0], [3.0]])\n",
    "y_data = torch.tensor([[2.0], [4.0], [6.0]])\n",
    " \n",
    "#design model using class\n",
    "\"\"\"\n",
    "our model class should be inherit from nn.Module, which is base class for all neural network modules.\n",
    "member methods __init__() and forward() have to be implemented\n",
    "class nn.linear contain two member Tensors: weight and bias\n",
    "class nn.Linear has implemented the magic method __call__(),which enable the instance of the class can\n",
    "be called just like a function.Normally the forward() will be called \n",
    "\"\"\"\n",
    "class LinearModel(torch.nn.Module):\n",
    "    def __init__(self):\n",
    "        super(LinearModel, self).__init__()\n",
    "        # (1,1)是指输入x和输出y的特征维度，这里数据集中的x和y的特征都是1维的\n",
    "        # 该线性层需要学习的参数是w和b  获取w/b的方式分别是~linear.weight/linear.bias\n",
    "        self.linear = torch.nn.Linear(1, 1)\n",
    " \n",
    "    def forward(self, x):\n",
    "        y_pred = self.linear(x)\n",
    "        return y_pred\n",
    " \n",
    "model = LinearModel()\n",
    "# construct loss and optimizer\n",
    "# criterion = torch.nn.MSELoss(size_average = False)\n",
    "criterion = torch.nn.MSELoss(reduction = 'sum')\n",
    "optimizer = torch.optim.Adagrad(model.parameters(), lr = 0.02) # model.parameters()自动完成参数的初始化操作\n",
    " \n",
    "# training cycle forward, backward, update\n",
    "loss_list,epochs = [],[]\n",
    "for epoch in range(10000):\n",
    "    y_pred = model(x_data) # forward:predict\n",
    "    loss = criterion(y_pred, y_data) # forward: loss\n",
    "    #print(epoch, loss.item())#loss 是图，取标量值需要调用 '.item()'这个函数 \n",
    "    loss_list.append(loss.item())\n",
    "    epochs.append(epoch)\n",
    " \n",
    "    optimizer.zero_grad() # the grad computer by .backward() will be accumulated. so before backward, remember set the grad to zero\n",
    "    loss.backward() # backward: autograd，自动计算梯度\n",
    "    optimizer.step() # update 参数，即更新w和b的值\n",
    " \n",
    "#print('w = ', model.linear.weight.item())\n",
    "#print('b = ', model.linear.bias.item())\n",
    " \n",
    "x_test = torch.tensor([[4.0]])\n",
    "y_test = model(x_test)\n",
    "#print('y_pred = ', y_test.data)\n",
    "\n",
    "plt.plot(epochs,loss_list)\n",
    "plt.ylabel('Loss')\n",
    "plt.xlabel('epoch')\n",
    "plt.show() "
   ]
  },
  {
   "cell_type": "markdown",
   "id": "edcfb4e9",
   "metadata": {},
   "source": [
    "## Adam    lr = 0.1  epochs=100"
   ]
  },
  {
   "cell_type": "code",
   "execution_count": 25,
   "id": "5e4ca58f",
   "metadata": {},
   "outputs": [
    {
     "data": {
      "image/png": "[encoded data removed]",
      "text/plain": [
       "<Figure size 432x288 with 1 Axes>"
      ]
     },
     "metadata": {
      "needs_background": "light"
     },
     "output_type": "display_data"
    }
   ],
   "source": [
    "import torch\n",
    "# prepare dataset\n",
    "# x,y是矩阵，3行1列 也就是说总共有3个 数据 ，每个数据只有1个 特征 \n",
    "x_data = torch.tensor([[1.0], [2.0], [3.0]])\n",
    "y_data = torch.tensor([[2.0], [4.0], [6.0]])\n",
    " \n",
    "#design model using class\n",
    "\"\"\"\n",
    "our model class should be inherit from nn.Module, which is base class for all neural network modules.\n",
    "member methods __init__() and forward() have to be implemented\n",
    "class nn.linear contain two member Tensors: weight and bias\n",
    "class nn.Linear has implemented the magic method __call__(),which enable the instance of the class can\n",
    "be called just like a function.Normally the forward() will be called \n",
    "\"\"\"\n",
    "class LinearModel(torch.nn.Module):\n",
    "    def __init__(self):\n",
    "        super(LinearModel, self).__init__()\n",
    "        # (1,1)是指输入x和输出y的特征维度，这里数据集中的x和y的特征都是1维的\n",
    "        # 该线性层需要学习的参数是w和b  获取w/b的方式分别是~linear.weight/linear.bias\n",
    "        self.linear = torch.nn.Linear(1, 1)\n",
    " \n",
    "    def forward(self, x):\n",
    "        y_pred = self.linear(x)\n",
    "        return y_pred\n",
    " \n",
    "model = LinearModel()\n",
    " \n",
    "# construct loss and optimizer\n",
    "# criterion = torch.nn.MSELoss(size_average = False)\n",
    "criterion = torch.nn.MSELoss(reduction = 'sum')\n",
    "optimizer = torch.optim.Adam(model.parameters(), lr = 0.1) # model.parameters()自动完成参数的初始化操作\n",
    " \n",
    "# training cycle forward, backward, update\n",
    "loss_list,epochs = [],[]\n",
    "for epoch in range(100):\n",
    "    y_pred = model(x_data) # forward:predict\n",
    "    loss = criterion(y_pred, y_data) # forward: loss\n",
    "    #print(epoch, loss.item())#loss 是图，取标量值需要调用 '.item()'这个函数 \n",
    "    loss_list.append(loss.item())\n",
    "    epochs.append(epoch)\n",
    " \n",
    "    optimizer.zero_grad() # the grad computer by .backward() will be accumulated. so before backward, remember set the grad to zero\n",
    "    loss.backward() # backward: autograd，自动计算梯度\n",
    "    optimizer.step() # update 参数，即更新w和b的值\n",
    " \n",
    "#print('w = ', model.linear.weight.item())\n",
    "#print('b = ', model.linear.bias.item())\n",
    " \n",
    "x_test = torch.tensor([[4.0]])\n",
    "y_test = model(x_test)\n",
    "#print('y_pred = ', y_test.data)\n",
    "\n",
    "plt.plot(epochs,loss_list)\n",
    "plt.ylabel('Loss')\n",
    "plt.xlabel('epoch')\n",
    "plt.show()"
   ]
  },
  {
   "cell_type": "markdown",
   "id": "28fa4fa1",
   "metadata": {},
   "source": [
    "## Adamax   lr = 0.15 epochs=100"
   ]
  },
  {
   "cell_type": "code",
   "execution_count": 39,
   "id": "f63bcde2",
   "metadata": {},
   "outputs": [
    {
     "data": {
      "image/png": "[encoded data removed]",
      "text/plain": [
       "<Figure size 432x288 with 1 Axes>"
      ]
     },
     "metadata": {
      "needs_background": "light"
     },
     "output_type": "display_data"
    }
   ],
   "source": [
    "import torch\n",
    "# prepare dataset\n",
    "# x,y是矩阵，3行1列 也就是说总共有3个 数据 ，每个数据只有1个 特征 \n",
    "x_data = torch.tensor([[1.0], [2.0], [3.0]])\n",
    "y_data = torch.tensor([[2.0], [4.0], [6.0]])\n",
    " \n",
    "#design model using class\n",
    "\"\"\"\n",
    "our model class should be inherit from nn.Module, which is base class for all neural network modules.\n",
    "member methods __init__() and forward() have to be implemented\n",
    "class nn.linear contain two member Tensors: weight and bias\n",
    "class nn.Linear has implemented the magic method __call__(),which enable the instance of the class can\n",
    "be called just like a function.Normally the forward() will be called \n",
    "\"\"\"\n",
    "class LinearModel(torch.nn.Module):\n",
    "    def __init__(self):\n",
    "        super(LinearModel, self).__init__()\n",
    "        # (1,1)是指输入x和输出y的特征维度，这里数据集中的x和y的特征都是1维的\n",
    "        # 该线性层需要学习的参数是w和b  获取w/b的方式分别是~linear.weight/linear.bias\n",
    "        self.linear = torch.nn.Linear(1, 1)\n",
    " \n",
    "    def forward(self, x):\n",
    "        y_pred = self.linear(x)\n",
    "        return y_pred\n",
    " \n",
    "model = LinearModel()\n",
    " \n",
    "# construct loss and optimizer\n",
    "# criterion = torch.nn.MSELoss(size_average = False)\n",
    "criterion = torch.nn.MSELoss(reduction = 'sum')\n",
    "optimizer = torch.optim.Adamax(model.parameters(), lr = 0.15) # model.parameters()自动完成参数的初始化操作\n",
    " \n",
    "# training cycle forward, backward, update\n",
    "loss_list,epochs = [],[]\n",
    "for epoch in range(100):\n",
    "    y_pred = model(x_data) # forward:predict\n",
    "    loss = criterion(y_pred, y_data) # forward: loss\n",
    "    #print(epoch, loss.item())#loss 是图，取标量值需要调用 '.item()'这个函数 \n",
    "    loss_list.append(loss.item())\n",
    "    epochs.append(epoch)\n",
    " \n",
    "    optimizer.zero_grad() # the grad computer by .backward() will be accumulated. so before backward, remember set the grad to zero\n",
    "    loss.backward() # backward: autograd，自动计算梯度\n",
    "    optimizer.step() # update 参数，即更新w和b的值\n",
    " \n",
    "#print('w = ', model.linear.weight.item())\n",
    "#print('b = ', model.linear.bias.item())\n",
    " \n",
    "x_test = torch.tensor([[4.0]])\n",
    "y_test = model(x_test)\n",
    "#print('y_pred = ', y_test.data)\n",
    "\n",
    "plt.plot(epochs,loss_list)\n",
    "plt.ylabel('Loss')\n",
    "plt.xlabel('epoch')\n",
    "plt.show()"
   ]
  },
  {
   "cell_type": "markdown",
   "id": "4a28ee53",
   "metadata": {},
   "source": [
    "## ASGD    lr = 0.001  epochs=100  "
   ]
  },
  {
   "cell_type": "code",
   "execution_count": 42,
   "id": "9ed71450",
   "metadata": {},
   "outputs": [
    {
     "data": {
      "image/png": "[encoded data removed]",
      "text/plain": [
       "<Figure size 432x288 with 1 Axes>"
      ]
     },
     "metadata": {
      "needs_background": "light"
     },
     "output_type": "display_data"
    }
   ],
   "source": [
    "import torch\n",
    "# prepare dataset\n",
    "# x,y是矩阵，3行1列 也就是说总共有3个 数据 ，每个数据只有1个 特征 \n",
    "x_data = torch.tensor([[1.0], [2.0], [3.0]])\n",
    "y_data = torch.tensor([[2.0], [4.0], [6.0]])\n",
    " \n",
    "#design model using class\n",
    "\"\"\"\n",
    "our model class should be inherit from nn.Module, which is base class for all neural network modules.\n",
    "member methods __init__() and forward() have to be implemented\n",
    "class nn.linear contain two member Tensors: weight and bias\n",
    "class nn.Linear has implemented the magic method __call__(),which enable the instance of the class can\n",
    "be called just like a function.Normally the forward() will be called \n",
    "\"\"\"\n",
    "class LinearModel(torch.nn.Module):\n",
    "    def __init__(self):\n",
    "        super(LinearModel, self).__init__()\n",
    "        # (1,1)是指输入x和输出y的特征维度，这里数据集中的x和y的特征都是1维的\n",
    "        # 该线性层需要学习的参数是w和b  获取w/b的方式分别是~linear.weight/linear.bias\n",
    "        self.linear = torch.nn.Linear(1, 1)\n",
    " \n",
    "    def forward(self, x):\n",
    "        y_pred = self.linear(x)\n",
    "        return y_pred\n",
    " \n",
    "model = LinearModel()\n",
    " \n",
    "# construct loss and optimizer\n",
    "# criterion = torch.nn.MSELoss(size_average = False)\n",
    "criterion = torch.nn.MSELoss(reduction = 'sum')\n",
    "optimizer = torch.optim.ASGD(model.parameters(), lr = 0.001) # model.parameters()自动完成参数的初始化操作\n",
    " \n",
    "# training cycle forward, backward, update\n",
    "loss_list,epochs = [],[]\n",
    "for epoch in range(100):\n",
    "    y_pred = model(x_data) # forward:predict\n",
    "    loss = criterion(y_pred, y_data) # forward: loss\n",
    "    #print(epoch, loss.item())#loss 是图，取标量值需要调用 '.item()'这个函数 \n",
    "    loss_list.append(loss.item())\n",
    "    epochs.append(epoch)\n",
    " \n",
    "    optimizer.zero_grad() # the grad computer by .backward() will be accumulated. so before backward, remember set the grad to zero\n",
    "    loss.backward() # backward: autograd，自动计算梯度\n",
    "    optimizer.step() # update 参数，即更新w和b的值\n",
    " \n",
    "#print('w = ', model.linear.weight.item())\n",
    "#print('b = ', model.linear.bias.item())\n",
    " \n",
    "x_test = torch.tensor([[4.0]])\n",
    "y_test = model(x_test)\n",
    "#print('y_pred = ', y_test.data)\n",
    "\n",
    "plt.plot(epochs,loss_list)\n",
    "plt.ylabel('Loss')\n",
    "plt.xlabel('epoch')\n",
    "plt.show()"
   ]
  },
  {
   "cell_type": "markdown",
   "id": "63ed9a17",
   "metadata": {},
   "source": [
    "## ASGD (当lr=0.15时)"
   ]
  },
  {
   "cell_type": "code",
   "execution_count": 47,
   "id": "c69c6f6a",
   "metadata": {},
   "outputs": [
    {
     "data": {
      "image/png": "[encoded data removed]",
      "text/plain": [
       "<Figure size 432x288 with 1 Axes>"
      ]
     },
     "metadata": {
      "needs_background": "light"
     },
     "output_type": "display_data"
    }
   ],
   "source": [
    "import torch\n",
    "# prepare dataset\n",
    "# x,y是矩阵，3行1列 也就是说总共有3个 数据 ，每个数据只有1个 特征 \n",
    "x_data = torch.tensor([[1.0], [2.0], [3.0]])\n",
    "y_data = torch.tensor([[2.0], [4.0], [6.0]])\n",
    " \n",
    "#design model using class\n",
    "\"\"\"\n",
    "our model class should be inherit from nn.Module, which is base class for all neural network modules.\n",
    "member methods __init__() and forward() have to be implemented\n",
    "class nn.linear contain two member Tensors: weight and bias\n",
    "class nn.Linear has implemented the magic method __call__(),which enable the instance of the class can\n",
    "be called just like a function.Normally the forward() will be called \n",
    "\"\"\"\n",
    "class LinearModel(torch.nn.Module):\n",
    "    def __init__(self):\n",
    "        super(LinearModel, self).__init__()\n",
    "        # (1,1)是指输入x和输出y的特征维度，这里数据集中的x和y的特征都是1维的\n",
    "        # 该线性层需要学习的参数是w和b  获取w/b的方式分别是~linear.weight/linear.bias\n",
    "        self.linear = torch.nn.Linear(1, 1)\n",
    " \n",
    "    def forward(self, x):\n",
    "        y_pred = self.linear(x)\n",
    "        return y_pred\n",
    " \n",
    "model = LinearModel()\n",
    " \n",
    "# construct loss and optimizer\n",
    "# criterion = torch.nn.MSELoss(size_average = False)\n",
    "criterion = torch.nn.MSELoss(reduction = 'sum')\n",
    "optimizer = torch.optim.ASGD(model.parameters(), lr = 0.15) # model.parameters()自动完成参数的初始化操作\n",
    " \n",
    "# training cycle forward, backward, update\n",
    "loss_list,epochs = [],[]\n",
    "for epoch in range(100):\n",
    "    y_pred = model(x_data) # forward:predict\n",
    "    loss = criterion(y_pred, y_data) # forward: loss\n",
    "    #print(epoch, loss.item())#loss 是图，取标量值需要调用 '.item()'这个函数 \n",
    "    loss_list.append(loss.item())\n",
    "    epochs.append(epoch)\n",
    " \n",
    "    optimizer.zero_grad() # the grad computer by .backward() will be accumulated. so before backward, remember set the grad to zero\n",
    "    loss.backward() # backward: autograd，自动计算梯度\n",
    "    optimizer.step() # update 参数，即更新w和b的值\n",
    " \n",
    "#print('w = ', model.linear.weight.item())\n",
    "#print('b = ', model.linear.bias.item())\n",
    " \n",
    "x_test = torch.tensor([[4.0]])\n",
    "y_test = model(x_test)\n",
    "#print('y_pred = ', y_test.data)\n",
    "\n",
    "plt.plot(epochs,loss_list)\n",
    "plt.ylabel('Loss')\n",
    "plt.xlabel('epoch')\n",
    "plt.show()"
   ]
  },
  {
   "cell_type": "markdown",
   "id": "42c2b25b",
   "metadata": {},
   "source": [
    "## RMSprop  lr = 0.015    epochs=100"
   ]
  },
  {
   "cell_type": "code",
   "execution_count": 49,
   "id": "ba595b81",
   "metadata": {},
   "outputs": [
    {
     "data": {
      "image/png": "[encoded data removed]",
      "text/plain": [
       "<Figure size 432x288 with 1 Axes>"
      ]
     },
     "metadata": {
      "needs_background": "light"
     },
     "output_type": "display_data"
    }
   ],
   "source": [
    "import torch\n",
    "# prepare dataset\n",
    "# x,y是矩阵，3行1列 也就是说总共有3个 数据 ，每个数据只有1个 特征 \n",
    "x_data = torch.tensor([[1.0], [2.0], [3.0]])\n",
    "y_data = torch.tensor([[2.0], [4.0], [6.0]])\n",
    " \n",
    "#design model using class\n",
    "\"\"\"\n",
    "our model class should be inherit from nn.Module, which is base class for all neural network modules.\n",
    "member methods __init__() and forward() have to be implemented\n",
    "class nn.linear contain two member Tensors: weight and bias\n",
    "class nn.Linear has implemented the magic method __call__(),which enable the instance of the class can\n",
    "be called just like a function.Normally the forward() will be called \n",
    "\"\"\"\n",
    "class LinearModel(torch.nn.Module):\n",
    "    def __init__(self):\n",
    "        super(LinearModel, self).__init__()\n",
    "        # (1,1)是指输入x和输出y的特征维度，这里数据集中的x和y的特征都是1维的\n",
    "        # 该线性层需要学习的参数是w和b  获取w/b的方式分别是~linear.weight/linear.bias\n",
    "        self.linear = torch.nn.Linear(1, 1)\n",
    " \n",
    "    def forward(self, x):\n",
    "        y_pred = self.linear(x)\n",
    "        return y_pred\n",
    " \n",
    "model = LinearModel()\n",
    " \n",
    "# construct loss and optimizer\n",
    "# criterion = torch.nn.MSELoss(size_average = False)\n",
    "criterion = torch.nn.MSELoss(reduction = 'sum')\n",
    "optimizer = torch.optim.RMSprop(model.parameters(), lr = 0.015) # model.parameters()自动完成参数的初始化操作\n",
    " \n",
    "# training cycle forward, backward, update\n",
    "loss_list,epochs = [],[]\n",
    "for epoch in range(100):\n",
    "    y_pred = model(x_data) # forward:predict\n",
    "    loss = criterion(y_pred, y_data) # forward: loss\n",
    "    #print(epoch, loss.item())#loss 是图，取标量值需要调用 '.item()'这个函数 \n",
    "    loss_list.append(loss.item())\n",
    "    epochs.append(epoch)\n",
    " \n",
    "    optimizer.zero_grad() # the grad computer by .backward() will be accumulated. so before backward, remember set the grad to zero\n",
    "    loss.backward() # backward: autograd，自动计算梯度\n",
    "    optimizer.step() # update 参数，即更新w和b的值\n",
    " \n",
    "#print('w = ', model.linear.weight.item())\n",
    "#print('b = ', model.linear.bias.item())\n",
    " \n",
    "x_test = torch.tensor([[4.0]])\n",
    "y_test = model(x_test)\n",
    "#print('y_pred = ', y_test.data)\n",
    "\n",
    "plt.plot(epochs,loss_list)\n",
    "plt.ylabel('Loss')\n",
    "plt.xlabel('epoch')\n",
    "plt.show()"
   ]
  },
  {
   "cell_type": "markdown",
   "id": "8831fa52",
   "metadata": {},
   "source": [
    "## Rprop   lr = 0.00015   epochs=100"
   ]
  },
  {
   "cell_type": "code",
   "execution_count": 53,
   "id": "3377de3d",
   "metadata": {},
   "outputs": [
    {
     "data": {
      "image/png": "[encoded data removed]",
      "text/plain": [
       "<Figure size 432x288 with 1 Axes>"
      ]
     },
     "metadata": {
      "needs_background": "light"
     },
     "output_type": "display_data"
    }
   ],
   "source": [
    "import torch\n",
    "# prepare dataset\n",
    "# x,y是矩阵，3行1列 也就是说总共有3个 数据 ，每个数据只有1个 特征 \n",
    "x_data = torch.tensor([[1.0], [2.0], [3.0]])\n",
    "y_data = torch.tensor([[2.0], [4.0], [6.0]])\n",
    " \n",
    "#design model using class\n",
    "\"\"\"\n",
    "our model class should be inherit from nn.Module, which is base class for all neural network modules.\n",
    "member methods __init__() and forward() have to be implemented\n",
    "class nn.linear contain two member Tensors: weight and bias\n",
    "class nn.Linear has implemented the magic method __call__(),which enable the instance of the class can\n",
    "be called just like a function.Normally the forward() will be called \n",
    "\"\"\"\n",
    "class LinearModel(torch.nn.Module):\n",
    "    def __init__(self):\n",
    "        super(LinearModel, self).__init__()\n",
    "        # (1,1)是指输入x和输出y的特征维度，这里数据集中的x和y的特征都是1维的\n",
    "        # 该线性层需要学习的参数是w和b  获取w/b的方式分别是~linear.weight/linear.bias\n",
    "        self.linear = torch.nn.Linear(1, 1)\n",
    " \n",
    "    def forward(self, x):\n",
    "        y_pred = self.linear(x)\n",
    "        return y_pred\n",
    " \n",
    "model = LinearModel()\n",
    " \n",
    "# construct loss and optimizer\n",
    "# criterion = torch.nn.MSELoss(size_average = False)\n",
    "criterion = torch.nn.MSELoss(reduction = 'sum')\n",
    "optimizer = torch.optim.Rprop(model.parameters(), lr = 0.00015) # model.parameters()自动完成参数的初始化操作\n",
    " \n",
    "# training cycle forward, backward, update\n",
    "loss_list,epochs = [],[]\n",
    "for epoch in range(100):\n",
    "    y_pred = model(x_data) # forward:predict\n",
    "    loss = criterion(y_pred, y_data) # forward: loss\n",
    "    #print(epoch, loss.item())#loss 是图，取标量值需要调用 '.item()'这个函数 \n",
    "    loss_list.append(loss.item())\n",
    "    epochs.append(epoch)\n",
    " \n",
    "    optimizer.zero_grad() # the grad computer by .backward() will be accumulated. so before backward, remember set the grad to zero\n",
    "    loss.backward() # backward: autograd，自动计算梯度\n",
    "    optimizer.step() # update 参数，即更新w和b的值\n",
    " \n",
    "#print('w = ', model.linear.weight.item())\n",
    "#print('b = ', model.linear.bias.item())\n",
    " \n",
    "x_test = torch.tensor([[4.0]])\n",
    "y_test = model(x_test)\n",
    "#print('y_pred = ', y_test.data)\n",
    "\n",
    "plt.plot(epochs,loss_list)\n",
    "plt.ylabel('Loss')\n",
    "plt.xlabel('epoch')\n",
    "plt.show()"
   ]
  },
  {
   "cell_type": "code",
   "execution_count": null,
   "id": "d55e155a",
   "metadata": {},
   "outputs": [],
   "source": []
  }
 ],
 "metadata": {
  "kernelspec": {
   "display_name": "Python 3",
   "language": "python",
   "name": "python3"
  },
  "language_info": {
   "codemirror_mode": {
    "name": "ipython",
    "version": 3
   },
   "file_extension": ".py",
   "mimetype": "text/x-python",
   "name": "python",
   "nbconvert_exporter": "python",
   "pygments_lexer": "ipython3",
   "version": "3.8.8"
  }
 },
 "nbformat": 4,
 "nbformat_minor": 5
}
